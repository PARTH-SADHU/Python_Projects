{
  "nbformat": 4,
  "nbformat_minor": 0,
  "metadata": {
    "colab": {
      "name": "python_1.ipynb",
      "provenance": [],
      "collapsed_sections": [],
      "authorship_tag": "ABX9TyMu+G9IfdQUlCUvpK37KSMN",
      "include_colab_link": true
    },
    "kernelspec": {
      "name": "python3",
      "display_name": "Python 3"
    },
    "language_info": {
      "name": "python"
    }
  },
  "cells": [
    {
      "cell_type": "markdown",
      "metadata": {
        "id": "view-in-github",
        "colab_type": "text"
      },
      "source": [
        "<a href=\"https://colab.research.google.com/github/PARTH-SADHU/Python_Projects/blob/master/python_1.ipynb\" target=\"_parent\"><img src=\"https://colab.research.google.com/assets/colab-badge.svg\" alt=\"Open In Colab\"/></a>"
      ]
    },
    {
      "cell_type": "code",
      "execution_count": null,
      "metadata": {
        "colab": {
          "base_uri": "https://localhost:8080/"
        },
        "id": "o9YU8Cn-hvCR",
        "outputId": "97b01689-4b09-4772-866a-e34f84d39e28"
      },
      "outputs": [
        {
          "output_type": "stream",
          "name": "stdout",
          "text": [
            "[[1 2 3]\n",
            " [4 5 6]]\n",
            "(2, 3)\n",
            "uint8\n"
          ]
        }
      ],
      "source": [
        "import numpy as np\n",
        "A=np.array([[1,2,3],[4,5,6]],dtype=np.uint8)\n",
        "print(A)\n",
        "print(A.shape)\n",
        "print(A.dtype)"
      ]
    },
    {
      "cell_type": "code",
      "source": [
        "A=np.array([[1,2,3,5],[4,5,6,7],[7,8,9,0]],dtype=np.uint8)\n",
        "print(A)"
      ],
      "metadata": {
        "colab": {
          "base_uri": "https://localhost:8080/"
        },
        "id": "YAu0nALOi1Z0",
        "outputId": "635aaab4-c970-4d31-cde6-aa87ed62b961"
      },
      "execution_count": null,
      "outputs": [
        {
          "output_type": "stream",
          "name": "stdout",
          "text": [
            "[[1 2 3 5]\n",
            " [4 5 6 7]\n",
            " [7 8 9 0]]\n"
          ]
        }
      ]
    },
    {
      "cell_type": "code",
      "source": [
        "B=np.ones((10,10),dtype=np.uint8)\n",
        "print(B)"
      ],
      "metadata": {
        "colab": {
          "base_uri": "https://localhost:8080/"
        },
        "id": "HrwOi7FZjiUR",
        "outputId": "2cfd00b3-b878-46ab-fa71-e87b1bf96bd3"
      },
      "execution_count": null,
      "outputs": [
        {
          "output_type": "stream",
          "name": "stdout",
          "text": [
            "[[1 1 1 1 1 1 1 1 1 1]\n",
            " [1 1 1 1 1 1 1 1 1 1]\n",
            " [1 1 1 1 1 1 1 1 1 1]\n",
            " [1 1 1 1 1 1 1 1 1 1]\n",
            " [1 1 1 1 1 1 1 1 1 1]\n",
            " [1 1 1 1 1 1 1 1 1 1]\n",
            " [1 1 1 1 1 1 1 1 1 1]\n",
            " [1 1 1 1 1 1 1 1 1 1]\n",
            " [1 1 1 1 1 1 1 1 1 1]\n",
            " [1 1 1 1 1 1 1 1 1 1]]\n"
          ]
        }
      ]
    },
    {
      "cell_type": "code",
      "source": [
        "B=np.ones((5,7),dtype=np.uint8)\n",
        "print(B*50)"
      ],
      "metadata": {
        "colab": {
          "base_uri": "https://localhost:8080/"
        },
        "id": "NFLEAoJHj6ji",
        "outputId": "0817fe0d-433b-477b-e5a7-f3d2d923b006"
      },
      "execution_count": null,
      "outputs": [
        {
          "output_type": "stream",
          "name": "stdout",
          "text": [
            "[[50 50 50 50 50 50 50]\n",
            " [50 50 50 50 50 50 50]\n",
            " [50 50 50 50 50 50 50]\n",
            " [50 50 50 50 50 50 50]\n",
            " [50 50 50 50 50 50 50]]\n"
          ]
        }
      ]
    },
    {
      "cell_type": "code",
      "source": [
        "C=np.arange(1,101)\n",
        "print(C)"
      ],
      "metadata": {
        "colab": {
          "base_uri": "https://localhost:8080/"
        },
        "id": "qf2l73DhkdRY",
        "outputId": "9948978a-b3f9-45ca-ea60-bb56e6fc737e"
      },
      "execution_count": null,
      "outputs": [
        {
          "output_type": "stream",
          "name": "stdout",
          "text": [
            "[  1   2   3   4   5   6   7   8   9  10  11  12  13  14  15  16  17  18\n",
            "  19  20  21  22  23  24  25  26  27  28  29  30  31  32  33  34  35  36\n",
            "  37  38  39  40  41  42  43  44  45  46  47  48  49  50  51  52  53  54\n",
            "  55  56  57  58  59  60  61  62  63  64  65  66  67  68  69  70  71  72\n",
            "  73  74  75  76  77  78  79  80  81  82  83  84  85  86  87  88  89  90\n",
            "  91  92  93  94  95  96  97  98  99 100]\n"
          ]
        }
      ]
    },
    {
      "cell_type": "code",
      "source": [
        "P=np.ones((3,5),dtype=np.uint8)\n",
        "Q=np.ones((3,8),dtype=np.uint8)\n",
        "\n",
        "R=np.concatenate([P,Q+3],axis=1)\n",
        "print(R)"
      ],
      "metadata": {
        "colab": {
          "base_uri": "https://localhost:8080/"
        },
        "id": "dIn3z3v3lpkr",
        "outputId": "eea60775-46d6-415e-d36e-b80146dd0992"
      },
      "execution_count": null,
      "outputs": [
        {
          "output_type": "stream",
          "name": "stdout",
          "text": [
            "[[1 1 1 1 1 4 4 4 4 4 4 4 4]\n",
            " [1 1 1 1 1 4 4 4 4 4 4 4 4]\n",
            " [1 1 1 1 1 4 4 4 4 4 4 4 4]]\n"
          ]
        }
      ]
    },
    {
      "cell_type": "code",
      "source": [
        "P=np.ones((4,8),dtype=np.uint8)\n",
        "Q=np.ones((3,8),dtype=np.uint8)\n",
        "\n",
        "R=np.concatenate([P+2,Q],axis=0)\n",
        "print(R)\n"
      ],
      "metadata": {
        "colab": {
          "base_uri": "https://localhost:8080/"
        },
        "id": "VzJT9T56mHcl",
        "outputId": "d6d555f3-320d-49b9-fa1d-21d1449750b3"
      },
      "execution_count": null,
      "outputs": [
        {
          "output_type": "stream",
          "name": "stdout",
          "text": [
            "[[3 3 3 3 3 3 3 3]\n",
            " [3 3 3 3 3 3 3 3]\n",
            " [3 3 3 3 3 3 3 3]\n",
            " [3 3 3 3 3 3 3 3]\n",
            " [1 1 1 1 1 1 1 1]\n",
            " [1 1 1 1 1 1 1 1]\n",
            " [1 1 1 1 1 1 1 1]]\n"
          ]
        }
      ]
    },
    {
      "cell_type": "code",
      "source": [
        "C=np.ones((5,4),dtype=np.float32)\n",
        "D=C+2.54\n",
        "print(\"This is the value of D-\",D\n",
        "      )\n",
        "\n",
        "E=D.astype(np.uint8)\n",
        "print(\"This is the value of E-\",+E)\n"
      ],
      "metadata": {
        "colab": {
          "base_uri": "https://localhost:8080/"
        },
        "id": "rlc446STnbU-",
        "outputId": "1f6725cc-bc84-4a50-92ac-3092f461869d"
      },
      "execution_count": null,
      "outputs": [
        {
          "output_type": "stream",
          "name": "stdout",
          "text": [
            "This is the value of D- [[3.54 3.54 3.54 3.54]\n",
            " [3.54 3.54 3.54 3.54]\n",
            " [3.54 3.54 3.54 3.54]\n",
            " [3.54 3.54 3.54 3.54]\n",
            " [3.54 3.54 3.54 3.54]]\n",
            "This is the value of E- [[3 3 3 3]\n",
            " [3 3 3 3]\n",
            " [3 3 3 3]\n",
            " [3 3 3 3]\n",
            " [3 3 3 3]]\n"
          ]
        }
      ]
    },
    {
      "cell_type": "code",
      "source": [
        "print(np.zeros_like(E))\n",
        "print(np.ones_like(E))"
      ],
      "metadata": {
        "colab": {
          "base_uri": "https://localhost:8080/"
        },
        "id": "G5pZ7QFzodil",
        "outputId": "f8aa365a-f23d-4e87-fe8a-74abeeda8482"
      },
      "execution_count": null,
      "outputs": [
        {
          "output_type": "stream",
          "name": "stdout",
          "text": [
            "[[0 0 0 0]\n",
            " [0 0 0 0]\n",
            " [0 0 0 0]\n",
            " [0 0 0 0]\n",
            " [0 0 0 0]]\n",
            "[[1 1 1 1]\n",
            " [1 1 1 1]\n",
            " [1 1 1 1]\n",
            " [1 1 1 1]\n",
            " [1 1 1 1]]\n"
          ]
        }
      ]
    },
    {
      "cell_type": "code",
      "source": [
        "randomvals=np.random.rand(5,7)\n",
        "print(randomvals)"
      ],
      "metadata": {
        "colab": {
          "base_uri": "https://localhost:8080/"
        },
        "id": "9Xk4J0KAqDzs",
        "outputId": "28de647a-47d0-405e-981a-9105c1c6fb31"
      },
      "execution_count": null,
      "outputs": [
        {
          "output_type": "stream",
          "name": "stdout",
          "text": [
            "[[0.8489434  0.12820641 0.84366289 0.34279595 0.25213467 0.58600393\n",
            "  0.07864176]\n",
            " [0.26781529 0.24605684 0.92865671 0.8054014  0.02868976 0.55776767\n",
            "  0.13849821]\n",
            " [0.90478098 0.59709429 0.20989594 0.27968971 0.09519559 0.5878567\n",
            "  0.4527686 ]\n",
            " [0.31928866 0.40385791 0.53699389 0.68865681 0.71446378 0.03282826\n",
            "  0.89243218]\n",
            " [0.07467312 0.42283219 0.87136677 0.723652   0.51731185 0.18897341\n",
            "  0.65325177]]\n"
          ]
        }
      ]
    },
    {
      "cell_type": "code",
      "source": [
        "randomints=np.random.randint(5,7)\n",
        "print(randomints)"
      ],
      "metadata": {
        "colab": {
          "base_uri": "https://localhost:8080/"
        },
        "id": "G-MKvLhiqTWX",
        "outputId": "cdf82efc-f0d1-4cd9-fbe4-e869019c4621"
      },
      "execution_count": null,
      "outputs": [
        {
          "output_type": "stream",
          "name": "stdout",
          "text": [
            "6\n"
          ]
        }
      ]
    },
    {
      "cell_type": "code",
      "source": [
        "randomints=np.random.randint(256,size=(50,50))\n",
        "print(randomints)"
      ],
      "metadata": {
        "colab": {
          "base_uri": "https://localhost:8080/"
        },
        "id": "wLmvfHtWq3bp",
        "outputId": "ce308c27-a486-4a6b-a9d7-dc6a0a1a2896"
      },
      "execution_count": null,
      "outputs": [
        {
          "output_type": "stream",
          "name": "stdout",
          "text": [
            "[[ 33   8 238 ... 149 195 203]\n",
            " [229 245 131 ...  37 123 155]\n",
            " [177 122  83 ... 140  78   9]\n",
            " ...\n",
            " [117 199  54 ... 198 190  76]\n",
            " [ 66 124  54 ...  66 218  32]\n",
            " [142  11 100 ...  67  93 171]]\n"
          ]
        }
      ]
    },
    {
      "cell_type": "code",
      "source": [
        "#For all the column values\n",
        "print(randomints[5,:])"
      ],
      "metadata": {
        "colab": {
          "base_uri": "https://localhost:8080/"
        },
        "id": "-7W31QVtrmNy",
        "outputId": "426276d0-8856-432d-98ab-cb9ecbb353cc"
      },
      "execution_count": null,
      "outputs": [
        {
          "output_type": "stream",
          "name": "stdout",
          "text": [
            "[232   7  21  89 190 178 193  61 230   4 182 254 122  62  97 148  58  65\n",
            " 179 164  96  14  22  13  99 220  51  28 128 249 189 124 174 117 190  83\n",
            " 117  23  35 126 156 147 172  51 192 198 214 197 250  99]\n"
          ]
        }
      ]
    },
    {
      "cell_type": "code",
      "source": [
        "print(randomints[0:5,0:6])\n",
        "#hw= 500*500 array"
      ],
      "metadata": {
        "colab": {
          "base_uri": "https://localhost:8080/"
        },
        "id": "DhNTsUdyr_CF",
        "outputId": "6225db36-6211-455b-95b0-de644ef90a8d"
      },
      "execution_count": null,
      "outputs": [
        {
          "output_type": "stream",
          "name": "stdout",
          "text": [
            "[[ 33   8 238   9 100  86]\n",
            " [229 245 131 247 204 183]\n",
            " [177 122  83 176  59 173]\n",
            " [181  46 228 243  69 170]\n",
            " [128  95 245 200 205 104]]\n"
          ]
        }
      ]
    },
    {
      "cell_type": "code",
      "source": [
        ""
      ],
      "metadata": {
        "id": "lYrMJMKVscC7"
      },
      "execution_count": null,
      "outputs": []
    }
  ]
}