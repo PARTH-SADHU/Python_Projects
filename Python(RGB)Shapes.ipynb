{
  "nbformat": 4,
  "nbformat_minor": 0,
  "metadata": {
    "colab": {
      "name": "Python(RGB)Shapes.ipynb",
      "provenance": [],
      "collapsed_sections": [],
      "authorship_tag": "ABX9TyOYMn3HSoiCDUiOIZBmFs5o",
      "include_colab_link": true
    },
    "kernelspec": {
      "name": "python3",
      "display_name": "Python 3"
    },
    "language_info": {
      "name": "python"
    }
  },
  "cells": [
    {
      "cell_type": "markdown",
      "metadata": {
        "id": "view-in-github",
        "colab_type": "text"
      },
      "source": [
        "<a href=\"https://colab.research.google.com/github/PARTH-SADHU/Python_Projects/blob/master/Python(RGB)Shapes.ipynb\" target=\"_parent\"><img src=\"https://colab.research.google.com/assets/colab-badge.svg\" alt=\"Open In Colab\"/></a>"
      ]
    },
    {
      "cell_type": "code",
      "execution_count": 1,
      "metadata": {
        "colab": {
          "base_uri": "https://localhost:8080/",
          "height": 57
        },
        "id": "cuREhOKi-_M9",
        "outputId": "87f6691c-618d-4dfa-9b51-4d3a7543d6fa"
      },
      "outputs": [
        {
          "output_type": "display_data",
          "data": {
            "image/png": "[encoded data removed]",
            "text/plain": [
              "<PIL.Image.Image image mode=L size=40x40 at 0x7F015A723D10>"
            ]
          },
          "metadata": {}
        }
      ],
      "source": [
        "import numpy as np\n",
        "from google.colab.patches import cv2_imshow\n",
        "\n",
        "threeD=np.zeros([40,40],dtype=np.uint8)\n",
        "threeD\n",
        "cv2_imshow(threeD)\n"
      ]
    },
    {
      "cell_type": "code",
      "source": [
        "randomints=np.random.randint(256,size=(50,50))\n",
        "print(randomints)\n",
        "cv2_imshow(randomints)"
      ],
      "metadata": {
        "colab": {
          "base_uri": "https://localhost:8080/",
          "height": 189
        },
        "id": "lbPRvc0J_F3a",
        "outputId": "4f8f165f-e843-4f9a-d312-def7ebcafbbe"
      },
      "execution_count": 2,
      "outputs": [
        {
          "output_type": "stream",
          "name": "stdout",
          "text": [
            "[[172  30 109 ...  36  65 122]\n",
            " [ 13  77 203 ... 144 155  72]\n",
            " [ 99 213 202 ... 171 177 162]\n",
            " ...\n",
            " [207 137 140 ...  44 184 206]\n",
            " [234  57   0 ...  89  62  34]\n",
            " [  3 105  91 ... 100 115  69]]\n"
          ]
        },
        {
          "output_type": "display_data",
          "data": {
            "image/png": "[encoded data removed]",
            "text/plain": [
              "<PIL.Image.Image image mode=L size=50x50 at 0x7F014BDC1050>"
            ]
          },
          "metadata": {}
        }
      ]
    },
    {
      "cell_type": "code",
      "source": [
        "A=np.ones([60,60],dtype=np.uint8)\n",
        "print(A)\n",
        "cv2_imshow(A)"
      ],
      "metadata": {
        "id": "zoI5KI1MAJ0y",
        "colab": {
          "base_uri": "https://localhost:8080/",
          "height": 198
        },
        "outputId": "57e02bc7-d4cc-48da-efdf-d96186ac3dda"
      },
      "execution_count": 3,
      "outputs": [
        {
          "output_type": "stream",
          "name": "stdout",
          "text": [
            "[[1 1 1 ... 1 1 1]\n",
            " [1 1 1 ... 1 1 1]\n",
            " [1 1 1 ... 1 1 1]\n",
            " ...\n",
            " [1 1 1 ... 1 1 1]\n",
            " [1 1 1 ... 1 1 1]\n",
            " [1 1 1 ... 1 1 1]]\n"
          ]
        },
        {
          "output_type": "display_data",
          "data": {
            "image/png": "[encoded data removed]",
            "text/plain": [
              "<PIL.Image.Image image mode=L size=60x60 at 0x7F014BDC1E50>"
            ]
          },
          "metadata": {}
        }
      ]
    },
    {
      "cell_type": "code",
      "source": [
        "\n",
        "B=np.ones([400,300,3])\n",
        "print(B)\n",
        "B[:200,:150]=[190,0,0]\n",
        "B[:200,150:]=[0,255,0]\n",
        "\n",
        "B[200:,:150]=[0,0,190]\n",
        "B[200:,150:]=[153,204,0]\n",
        "cv2_imshow(B)"
      ],
      "metadata": {
        "id": "i5vq9pPzYhbn",
        "colab": {
          "base_uri": "https://localhost:8080/",
          "height": 1000
        },
        "outputId": "8ee595c1-6ecd-4a7a-a4be-11de32b22959"
      },
      "execution_count": 4,
      "outputs": [
        {
          "output_type": "stream",
          "name": "stdout",
          "text": [
            "[[[1. 1. 1.]\n",
            "  [1. 1. 1.]\n",
            "  [1. 1. 1.]\n",
            "  ...\n",
            "  [1. 1. 1.]\n",
            "  [1. 1. 1.]\n",
            "  [1. 1. 1.]]\n",
            "\n",
            " [[1. 1. 1.]\n",
            "  [1. 1. 1.]\n",
            "  [1. 1. 1.]\n",
            "  ...\n",
            "  [1. 1. 1.]\n",
            "  [1. 1. 1.]\n",
            "  [1. 1. 1.]]\n",
            "\n",
            " [[1. 1. 1.]\n",
            "  [1. 1. 1.]\n",
            "  [1. 1. 1.]\n",
            "  ...\n",
            "  [1. 1. 1.]\n",
            "  [1. 1. 1.]\n",
            "  [1. 1. 1.]]\n",
            "\n",
            " ...\n",
            "\n",
            " [[1. 1. 1.]\n",
            "  [1. 1. 1.]\n",
            "  [1. 1. 1.]\n",
            "  ...\n",
            "  [1. 1. 1.]\n",
            "  [1. 1. 1.]\n",
            "  [1. 1. 1.]]\n",
            "\n",
            " [[1. 1. 1.]\n",
            "  [1. 1. 1.]\n",
            "  [1. 1. 1.]\n",
            "  ...\n",
            "  [1. 1. 1.]\n",
            "  [1. 1. 1.]\n",
            "  [1. 1. 1.]]\n",
            "\n",
            " [[1. 1. 1.]\n",
            "  [1. 1. 1.]\n",
            "  [1. 1. 1.]\n",
            "  ...\n",
            "  [1. 1. 1.]\n",
            "  [1. 1. 1.]\n",
            "  [1. 1. 1.]]]\n"
          ]
        },
        {
          "output_type": "display_data",
          "data": {
            "image/png": "[encoded data removed]",
            "text/plain": [
              "<PIL.Image.Image image mode=RGB size=300x400 at 0x7F014BDC1750>"
            ]
          },
          "metadata": {}
        }
      ]
    },
    {
      "cell_type": "code",
      "source": [
        "B_one=np.zeros([100,100,3],dtype=np.uint8)\n",
        "print(B_one)\n",
        "B_one[:100,:50]=[0,102,204]\n",
        "cv2_imshow(B_one)"
      ],
      "metadata": {
        "id": "dy7Adb5ia8Vq",
        "colab": {
          "base_uri": "https://localhost:8080/",
          "height": 968
        },
        "outputId": "9e8643f6-c7bb-4379-cddc-605720f31096"
      },
      "execution_count": 5,
      "outputs": [
        {
          "output_type": "stream",
          "name": "stdout",
          "text": [
            "[[[0 0 0]\n",
            "  [0 0 0]\n",
            "  [0 0 0]\n",
            "  ...\n",
            "  [0 0 0]\n",
            "  [0 0 0]\n",
            "  [0 0 0]]\n",
            "\n",
            " [[0 0 0]\n",
            "  [0 0 0]\n",
            "  [0 0 0]\n",
            "  ...\n",
            "  [0 0 0]\n",
            "  [0 0 0]\n",
            "  [0 0 0]]\n",
            "\n",
            " [[0 0 0]\n",
            "  [0 0 0]\n",
            "  [0 0 0]\n",
            "  ...\n",
            "  [0 0 0]\n",
            "  [0 0 0]\n",
            "  [0 0 0]]\n",
            "\n",
            " ...\n",
            "\n",
            " [[0 0 0]\n",
            "  [0 0 0]\n",
            "  [0 0 0]\n",
            "  ...\n",
            "  [0 0 0]\n",
            "  [0 0 0]\n",
            "  [0 0 0]]\n",
            "\n",
            " [[0 0 0]\n",
            "  [0 0 0]\n",
            "  [0 0 0]\n",
            "  ...\n",
            "  [0 0 0]\n",
            "  [0 0 0]\n",
            "  [0 0 0]]\n",
            "\n",
            " [[0 0 0]\n",
            "  [0 0 0]\n",
            "  [0 0 0]\n",
            "  ...\n",
            "  [0 0 0]\n",
            "  [0 0 0]\n",
            "  [0 0 0]]]\n"
          ]
        },
        {
          "output_type": "display_data",
          "data": {
            "image/png": "[encoded data removed]",
            "text/plain": [
              "<PIL.Image.Image image mode=RGB size=100x100 at 0x7F014BDC1A10>"
            ]
          },
          "metadata": {}
        }
      ]
    },
    {
      "cell_type": "code",
      "source": [
        "B_two=np.zeros([100,100,3],dtype=np.uint8)\n",
        "B_two[:50,:]=[128,128,128]\n",
        "B_two[50:,:]=[192,192,192]\n",
        "cv2_imshow(B_two)"
      ],
      "metadata": {
        "colab": {
          "base_uri": "https://localhost:8080/",
          "height": 117
        },
        "id": "Ct_e_KNiaGQd",
        "outputId": "87bbb142-4153-4dbd-a550-192eb72fb3c6"
      },
      "execution_count": 6,
      "outputs": [
        {
          "output_type": "display_data",
          "data": {
            "image/png": "[encoded data removed]",
            "text/plain": [
              "<PIL.Image.Image image mode=RGB size=100x100 at 0x7F014BE21950>"
            ]
          },
          "metadata": {}
        }
      ]
    },
    {
      "cell_type": "code",
      "source": [
        "B_three=np.zeros([200,200,3],dtype=np.uint8)\n",
        "B_three[:100,:100]=[0,0,0]\n",
        "B_three[:100,100:]=[0,128,128]\n",
        "B_three[100:,:100]=[128,128,0]\n",
        "B_three[100:150,100:150]=[255,255,0]\n",
        "B_three[100:150,150:]=[153,128,128]\n",
        "B_three[150:,100:150]=[0,128,0]\n",
        "cv2_imshow(B_three)"
      ],
      "metadata": {
        "colab": {
          "base_uri": "https://localhost:8080/",
          "height": 217
        },
        "id": "WWa4sOfYpb_Q",
        "outputId": "74ac7098-27c7-4da6-bd66-aeca92633095"
      },
      "execution_count": 7,
      "outputs": [
        {
          "output_type": "display_data",
          "data": {
            "image/png": "[encoded data removed]",
            "text/plain": [
              "<PIL.Image.Image image mode=RGB size=200x200 at 0x7F014BDE4050>"
            ]
          },
          "metadata": {}
        }
      ]
    },
    {
      "cell_type": "code",
      "source": [
        "B_four=np.zeros([200,200,3],dtype=np.uint8)\n",
        "B_four[:200,:50]=[255,204,0]\n",
        "B_four[:200,50:100]=[255,153,0]\n",
        "B_four[:100,100:200]=[255,102,0]\n",
        "B_four[100:150,100:150]=[255,204,0]\n",
        "B_four[100:150,150:200]=[255,153,0]\n",
        "B_four[150:200,100:150]=[51,102,255]\n",
        "B_four[150:200,150:200]=[255,102,0]\n",
        "cv2_imshow(B_four)"
      ],
      "metadata": {
        "id": "Jo0GPI5eqyPI",
        "colab": {
          "base_uri": "https://localhost:8080/",
          "height": 217
        },
        "outputId": "e882ee42-ac3a-4464-8375-2cf09062732a"
      },
      "execution_count": 21,
      "outputs": [
        {
          "output_type": "display_data",
          "data": {
            "image/png": "[encoded data removed]",
            "text/plain": [
              "<PIL.Image.Image image mode=RGB size=200x200 at 0x7F014BDAA190>"
            ]
          },
          "metadata": {}
        }
      ]
    },
    {
      "cell_type": "code",
      "source": [
        "P=np.ones([100,100,3],dtype=np.uint8)\n",
        "P[:100,:10]=[233,454,567]\n",
        "P[:10,10:100]=[233,454,567]\n",
        "P[10:100,90:100]=[51,102,255]\n",
        "P[90:100,:100]=[51,102,255]\n",
        "P[45:55,45:55]=[51,102,255]\n",
        "\n",
        "cv2_imshow(P)"
      ],
      "metadata": {
        "colab": {
          "base_uri": "https://localhost:8080/",
          "height": 117
        },
        "id": "W246PpR_gWpE",
        "outputId": "a5dd65eb-818f-478b-d62d-f8307a91df0f"
      },
      "execution_count": 31,
      "outputs": [
        {
          "output_type": "display_data",
          "data": {
            "image/png": "[encoded data removed]",
            "text/plain": [
              "<PIL.Image.Image image mode=RGB size=100x100 at 0x7F01429DE790>"
            ]
          },
          "metadata": {}
        }
      ]
    },
    {
      "cell_type": "code",
      "source": [
        ""
      ],
      "metadata": {
        "id": "oUrpqSnciV7Y"
      },
      "execution_count": null,
      "outputs": []
    }
  ]
}